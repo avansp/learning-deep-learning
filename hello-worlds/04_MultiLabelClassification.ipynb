{
 "cells": [
  {
   "cell_type": "markdown",
   "metadata": {},
   "source": [
    "# Movie poster genre classification\n",
    "----\n",
    "\n",
    "Source: https://www.analyticsvidhya.com/blog/2019/04/build-first-multi-label-image-classification-model-python/\n",
    "\n",
    "What you can learn from this notebook:\n",
    "* A multilabel image classification, because each movie can have more than one genre's.\n",
    "* How to use Keras' `ImageDataGenerator` class and `flow_from_dataframe` method to generate and pre-process image data on-the-fly directly for training."
   ]
  },
  {
   "cell_type": "code",
   "execution_count": 1,
   "metadata": {},
   "outputs": [
    {
     "name": "stdout",
     "output_type": "stream",
     "text": [
      "We're using TensorFlow ver. 1.14.0\n"
     ]
    }
   ],
   "source": [
    "# boilerplate codes\n",
    "%matplotlib inline\n",
    "import matplotlib.pyplot as plt\n",
    "\n",
    "import tensorflow as tf\n",
    "import pandas as pd\n",
    "import imageio\n",
    "import os\n",
    "import numpy as np\n",
    "\n",
    "from tensorflow.keras import Sequential\n",
    "from tensorflow.keras.layers import Conv2D, Dense, Flatten, Dropout, MaxPool2D\n",
    "\n",
    "import logging\n",
    "logging.disable(logging.WARNING)\n",
    "os.environ[\"TF_CPP_MIN_LOG_LEVEL\"] = \"3\"\n",
    "\n",
    "# check the tensorflow version\n",
    "print(\"We're using TensorFlow ver. {}\".format(tf.__version__))"
   ]
  },
  {
   "cell_type": "code",
   "execution_count": 2,
   "metadata": {},
   "outputs": [],
   "source": [
    "# the data folder -- (modify this)\n",
    "Multi_Label_dataset = r'../../multi-label-clf/movie-poster/Multi_Label_dataset'\n",
    "\n",
    "# some constant we use later\n",
    "# (you can change these constant values to experiment)\n",
    "BATCH_SIZE = 64\n",
    "IMAGE_SIZE = (256, 256)\n",
    "TEST_FRACTION = 0.1\n",
    "VALIDATION_FRACTION = 0.1\n",
    "EPOCHS = 10"
   ]
  },
  {
   "cell_type": "markdown",
   "metadata": {},
   "source": [
    "## Exploring the data\n",
    "\n",
    "The data is provided from [this link](https://drive.google.com/file/d/1iQV5kKF_KGZL9ALx9MMXk_Lg7PklBLCE/view?usp=sharing). Assume that you have downloaded it and extracted the zip file to a folder called `Multi_Label_dataset`.\n",
    "\n",
    "This folder contains:\n",
    "* `train.csv` file\n",
    "* `Images` folder"
   ]
  },
  {
   "cell_type": "code",
   "execution_count": 3,
   "metadata": {},
   "outputs": [
    {
     "name": "stdout",
     "output_type": "stream",
     "text": [
      "Size of the data: (7254, 27)\n"
     ]
    },
    {
     "data": {
      "text/html": [
       "<div>\n",
       "<style scoped>\n",
       "    .dataframe tbody tr th:only-of-type {\n",
       "        vertical-align: middle;\n",
       "    }\n",
       "\n",
       "    .dataframe tbody tr th {\n",
       "        vertical-align: top;\n",
       "    }\n",
       "\n",
       "    .dataframe thead th {\n",
       "        text-align: right;\n",
       "    }\n",
       "</style>\n",
       "<table border=\"1\" class=\"dataframe\">\n",
       "  <thead>\n",
       "    <tr style=\"text-align: right;\">\n",
       "      <th></th>\n",
       "      <th>Id</th>\n",
       "      <th>Genre</th>\n",
       "      <th>Action</th>\n",
       "      <th>Adventure</th>\n",
       "      <th>Animation</th>\n",
       "      <th>Biography</th>\n",
       "      <th>Comedy</th>\n",
       "      <th>Crime</th>\n",
       "      <th>Documentary</th>\n",
       "      <th>Drama</th>\n",
       "      <th>...</th>\n",
       "      <th>N/A</th>\n",
       "      <th>News</th>\n",
       "      <th>Reality-TV</th>\n",
       "      <th>Romance</th>\n",
       "      <th>Sci-Fi</th>\n",
       "      <th>Short</th>\n",
       "      <th>Sport</th>\n",
       "      <th>Thriller</th>\n",
       "      <th>War</th>\n",
       "      <th>Western</th>\n",
       "    </tr>\n",
       "  </thead>\n",
       "  <tbody>\n",
       "    <tr>\n",
       "      <th>0</th>\n",
       "      <td>tt0086425</td>\n",
       "      <td>['Comedy', 'Drama']</td>\n",
       "      <td>0</td>\n",
       "      <td>0</td>\n",
       "      <td>0</td>\n",
       "      <td>0</td>\n",
       "      <td>1</td>\n",
       "      <td>0</td>\n",
       "      <td>0</td>\n",
       "      <td>1</td>\n",
       "      <td>...</td>\n",
       "      <td>0</td>\n",
       "      <td>0</td>\n",
       "      <td>0</td>\n",
       "      <td>0</td>\n",
       "      <td>0</td>\n",
       "      <td>0</td>\n",
       "      <td>0</td>\n",
       "      <td>0</td>\n",
       "      <td>0</td>\n",
       "      <td>0</td>\n",
       "    </tr>\n",
       "    <tr>\n",
       "      <th>1</th>\n",
       "      <td>tt0085549</td>\n",
       "      <td>['Drama', 'Romance', 'Music']</td>\n",
       "      <td>0</td>\n",
       "      <td>0</td>\n",
       "      <td>0</td>\n",
       "      <td>0</td>\n",
       "      <td>0</td>\n",
       "      <td>0</td>\n",
       "      <td>0</td>\n",
       "      <td>1</td>\n",
       "      <td>...</td>\n",
       "      <td>0</td>\n",
       "      <td>0</td>\n",
       "      <td>0</td>\n",
       "      <td>1</td>\n",
       "      <td>0</td>\n",
       "      <td>0</td>\n",
       "      <td>0</td>\n",
       "      <td>0</td>\n",
       "      <td>0</td>\n",
       "      <td>0</td>\n",
       "    </tr>\n",
       "    <tr>\n",
       "      <th>2</th>\n",
       "      <td>tt0086465</td>\n",
       "      <td>['Comedy']</td>\n",
       "      <td>0</td>\n",
       "      <td>0</td>\n",
       "      <td>0</td>\n",
       "      <td>0</td>\n",
       "      <td>1</td>\n",
       "      <td>0</td>\n",
       "      <td>0</td>\n",
       "      <td>0</td>\n",
       "      <td>...</td>\n",
       "      <td>0</td>\n",
       "      <td>0</td>\n",
       "      <td>0</td>\n",
       "      <td>0</td>\n",
       "      <td>0</td>\n",
       "      <td>0</td>\n",
       "      <td>0</td>\n",
       "      <td>0</td>\n",
       "      <td>0</td>\n",
       "      <td>0</td>\n",
       "    </tr>\n",
       "    <tr>\n",
       "      <th>3</th>\n",
       "      <td>tt0086567</td>\n",
       "      <td>['Sci-Fi', 'Thriller']</td>\n",
       "      <td>0</td>\n",
       "      <td>0</td>\n",
       "      <td>0</td>\n",
       "      <td>0</td>\n",
       "      <td>0</td>\n",
       "      <td>0</td>\n",
       "      <td>0</td>\n",
       "      <td>0</td>\n",
       "      <td>...</td>\n",
       "      <td>0</td>\n",
       "      <td>0</td>\n",
       "      <td>0</td>\n",
       "      <td>0</td>\n",
       "      <td>1</td>\n",
       "      <td>0</td>\n",
       "      <td>0</td>\n",
       "      <td>1</td>\n",
       "      <td>0</td>\n",
       "      <td>0</td>\n",
       "    </tr>\n",
       "    <tr>\n",
       "      <th>4</th>\n",
       "      <td>tt0086034</td>\n",
       "      <td>['Action', 'Adventure', 'Thriller']</td>\n",
       "      <td>1</td>\n",
       "      <td>1</td>\n",
       "      <td>0</td>\n",
       "      <td>0</td>\n",
       "      <td>0</td>\n",
       "      <td>0</td>\n",
       "      <td>0</td>\n",
       "      <td>0</td>\n",
       "      <td>...</td>\n",
       "      <td>0</td>\n",
       "      <td>0</td>\n",
       "      <td>0</td>\n",
       "      <td>0</td>\n",
       "      <td>0</td>\n",
       "      <td>0</td>\n",
       "      <td>0</td>\n",
       "      <td>1</td>\n",
       "      <td>0</td>\n",
       "      <td>0</td>\n",
       "    </tr>\n",
       "  </tbody>\n",
       "</table>\n",
       "<p>5 rows × 27 columns</p>\n",
       "</div>"
      ],
      "text/plain": [
       "          Id                                Genre  Action  Adventure  \\\n",
       "0  tt0086425                  ['Comedy', 'Drama']       0          0   \n",
       "1  tt0085549        ['Drama', 'Romance', 'Music']       0          0   \n",
       "2  tt0086465                           ['Comedy']       0          0   \n",
       "3  tt0086567               ['Sci-Fi', 'Thriller']       0          0   \n",
       "4  tt0086034  ['Action', 'Adventure', 'Thriller']       1          1   \n",
       "\n",
       "   Animation  Biography  Comedy  Crime  Documentary  Drama  ...  N/A  News  \\\n",
       "0          0          0       1      0            0      1  ...    0     0   \n",
       "1          0          0       0      0            0      1  ...    0     0   \n",
       "2          0          0       1      0            0      0  ...    0     0   \n",
       "3          0          0       0      0            0      0  ...    0     0   \n",
       "4          0          0       0      0            0      0  ...    0     0   \n",
       "\n",
       "   Reality-TV  Romance  Sci-Fi  Short  Sport  Thriller  War  Western  \n",
       "0           0        0       0      0      0         0    0        0  \n",
       "1           0        1       0      0      0         0    0        0  \n",
       "2           0        0       0      0      0         0    0        0  \n",
       "3           0        0       1      0      0         1    0        0  \n",
       "4           0        0       0      0      0         1    0        0  \n",
       "\n",
       "[5 rows x 27 columns]"
      ]
     },
     "execution_count": 3,
     "metadata": {},
     "output_type": "execute_result"
    }
   ],
   "source": [
    "df = pd.read_csv(os.path.join(Multi_Label_dataset, 'train.csv'))\n",
    "print('Size of the data: {}'.format(df.shape))\n",
    "df.head()"
   ]
  },
  {
   "cell_type": "markdown",
   "metadata": {},
   "source": [
    "Couple things we need to modify the dataframe above before using it in the `ImageDataGenerator` class:\n",
    "1. The column `Id` contains the image filename without the extension of jpg, so we need to add it to them.\n",
    "2. The column `Genre` is what we need for the labels, but their values are in string, not list.\n",
    "3. We can drop all other columns, because the `ImageDataGenerator` will create a one-hot vector automatically for us using the `Genre` values."
   ]
  },
  {
   "cell_type": "code",
   "execution_count": 4,
   "metadata": {},
   "outputs": [
    {
     "data": {
      "text/html": [
       "<div>\n",
       "<style scoped>\n",
       "    .dataframe tbody tr th:only-of-type {\n",
       "        vertical-align: middle;\n",
       "    }\n",
       "\n",
       "    .dataframe tbody tr th {\n",
       "        vertical-align: top;\n",
       "    }\n",
       "\n",
       "    .dataframe thead th {\n",
       "        text-align: right;\n",
       "    }\n",
       "</style>\n",
       "<table border=\"1\" class=\"dataframe\">\n",
       "  <thead>\n",
       "    <tr style=\"text-align: right;\">\n",
       "      <th></th>\n",
       "      <th>Id</th>\n",
       "      <th>Genre</th>\n",
       "    </tr>\n",
       "  </thead>\n",
       "  <tbody>\n",
       "    <tr>\n",
       "      <th>0</th>\n",
       "      <td>tt0086425.jpg</td>\n",
       "      <td>[Comedy, Drama]</td>\n",
       "    </tr>\n",
       "    <tr>\n",
       "      <th>1</th>\n",
       "      <td>tt0085549.jpg</td>\n",
       "      <td>[Drama, Romance, Music]</td>\n",
       "    </tr>\n",
       "    <tr>\n",
       "      <th>2</th>\n",
       "      <td>tt0086465.jpg</td>\n",
       "      <td>[Comedy]</td>\n",
       "    </tr>\n",
       "    <tr>\n",
       "      <th>3</th>\n",
       "      <td>tt0086567.jpg</td>\n",
       "      <td>[Sci-Fi, Thriller]</td>\n",
       "    </tr>\n",
       "    <tr>\n",
       "      <th>4</th>\n",
       "      <td>tt0086034.jpg</td>\n",
       "      <td>[Action, Adventure, Thriller]</td>\n",
       "    </tr>\n",
       "  </tbody>\n",
       "</table>\n",
       "</div>"
      ],
      "text/plain": [
       "              Id                          Genre\n",
       "0  tt0086425.jpg                [Comedy, Drama]\n",
       "1  tt0085549.jpg        [Drama, Romance, Music]\n",
       "2  tt0086465.jpg                       [Comedy]\n",
       "3  tt0086567.jpg             [Sci-Fi, Thriller]\n",
       "4  tt0086034.jpg  [Action, Adventure, Thriller]"
      ]
     },
     "execution_count": 4,
     "metadata": {},
     "output_type": "execute_result"
    }
   ],
   "source": [
    "# select only Id and Genre, drop other columns\n",
    "prep_data = df.loc[:, ['Id', 'Genre']]\n",
    "\n",
    "# append '.jpg' suffix to the Id values\n",
    "prep_data['Id'] = prep_data['Id'].apply(lambda x: '{}.jpg'.format(x))\n",
    "\n",
    "# make Genre values as list\n",
    "prep_data['Genre'] = prep_data['Genre'].apply(lambda x: eval(x))\n",
    "\n",
    "prep_data.head()"
   ]
  },
  {
   "cell_type": "code",
   "execution_count": 5,
   "metadata": {},
   "outputs": [
    {
     "name": "stdout",
     "output_type": "stream",
     "text": [
      "We've got 25 genre's in the dataset\n"
     ]
    }
   ],
   "source": [
    "# Calculate the number of classes\n",
    "classes = set()\n",
    "for g in prep_data['Genre']:\n",
    "    classes.update(g)\n",
    "print(\"We've got {} genre's in the dataset\".format(len(classes)))"
   ]
  },
  {
   "cell_type": "markdown",
   "metadata": {},
   "source": [
    "That's all we need to prepare a dataframe for the `ImageDataGenerator`."
   ]
  },
  {
   "cell_type": "markdown",
   "metadata": {},
   "source": [
    "## Build the network model\n",
    "\n",
    "This is a simple convolutional neural network layers for classification. The only important difference is that the output layer uses **`sigmoid`** activation function to allow independent probability estimation."
   ]
  },
  {
   "cell_type": "code",
   "execution_count": 6,
   "metadata": {},
   "outputs": [
    {
     "name": "stdout",
     "output_type": "stream",
     "text": [
      "Model: \"sequential\"\n",
      "_________________________________________________________________\n",
      "Layer (type)                 Output Shape              Param #   \n",
      "=================================================================\n",
      "conv2d (Conv2D)              (None, 252, 252, 16)      1216      \n",
      "_________________________________________________________________\n",
      "max_pooling2d (MaxPooling2D) (None, 126, 126, 16)      0         \n",
      "_________________________________________________________________\n",
      "dropout (Dropout)            (None, 126, 126, 16)      0         \n",
      "_________________________________________________________________\n",
      "conv2d_1 (Conv2D)            (None, 122, 122, 32)      12832     \n",
      "_________________________________________________________________\n",
      "max_pooling2d_1 (MaxPooling2 (None, 61, 61, 32)        0         \n",
      "_________________________________________________________________\n",
      "dropout_1 (Dropout)          (None, 61, 61, 32)        0         \n",
      "_________________________________________________________________\n",
      "conv2d_2 (Conv2D)            (None, 57, 57, 64)        51264     \n",
      "_________________________________________________________________\n",
      "max_pooling2d_2 (MaxPooling2 (None, 28, 28, 64)        0         \n",
      "_________________________________________________________________\n",
      "dropout_2 (Dropout)          (None, 28, 28, 64)        0         \n",
      "_________________________________________________________________\n",
      "conv2d_3 (Conv2D)            (None, 24, 24, 64)        102464    \n",
      "_________________________________________________________________\n",
      "max_pooling2d_3 (MaxPooling2 (None, 12, 12, 64)        0         \n",
      "_________________________________________________________________\n",
      "dropout_3 (Dropout)          (None, 12, 12, 64)        0         \n",
      "_________________________________________________________________\n",
      "flatten (Flatten)            (None, 9216)              0         \n",
      "_________________________________________________________________\n",
      "dense (Dense)                (None, 128)               1179776   \n",
      "_________________________________________________________________\n",
      "dropout_4 (Dropout)          (None, 128)               0         \n",
      "_________________________________________________________________\n",
      "dense_1 (Dense)              (None, 64)                8256      \n",
      "_________________________________________________________________\n",
      "dropout_5 (Dropout)          (None, 64)                0         \n",
      "_________________________________________________________________\n",
      "dense_2 (Dense)              (None, 25)                1625      \n",
      "=================================================================\n",
      "Total params: 1,357,433\n",
      "Trainable params: 1,357,433\n",
      "Non-trainable params: 0\n",
      "_________________________________________________________________\n"
     ]
    }
   ],
   "source": [
    "model = Sequential([\n",
    "    Conv2D(filters=16, kernel_size=(5,5), activation=\"relu\", input_shape=(IMAGE_SIZE[0], IMAGE_SIZE[1], 3)),\n",
    "    MaxPool2D(pool_size=(2,2)),\n",
    "    Dropout(0.25),\n",
    "\n",
    "    Conv2D(filters=32, kernel_size=(5,5), activation=\"relu\"),\n",
    "    MaxPool2D(pool_size=(2,2)),\n",
    "    Dropout(0.25),\n",
    "\n",
    "    Conv2D(filters=64, kernel_size=(5,5), activation=\"relu\"),\n",
    "    MaxPool2D(pool_size=(2,2)),\n",
    "    Dropout(0.25),\n",
    "\n",
    "    Conv2D(filters=64, kernel_size=(5,5), activation=\"relu\"),\n",
    "    MaxPool2D(pool_size=(2,2)),\n",
    "    Dropout(0.25),\n",
    "    \n",
    "    Flatten(),\n",
    "    \n",
    "    Dense(128, activation=\"relu\"),\n",
    "    Dropout(0.5),\n",
    "    \n",
    "    Dense(64, activation=\"relu\"),\n",
    "    Dropout(0.5),\n",
    "    \n",
    "    # IMPORTANT: sigmoid function for multilabel classification\n",
    "    Dense(len(classes), activation=\"sigmoid\")\n",
    "])\n",
    "\n",
    "model.summary()"
   ]
  },
  {
   "cell_type": "markdown",
   "metadata": {},
   "source": [
    "## Split the data table into training and test"
   ]
  },
  {
   "cell_type": "markdown",
   "metadata": {},
   "source": [
    "We first need to split the data into **training** and **test** data, and set aside the test data, because the `ImageDataGenerator` can only split the data only for training and validation."
   ]
  },
  {
   "cell_type": "code",
   "execution_count": 7,
   "metadata": {},
   "outputs": [
    {
     "name": "stdout",
     "output_type": "stream",
     "text": [
      "For 7254 rows, we randomly split into 6528 training and 726 test\n"
     ]
    }
   ],
   "source": [
    "# We're going to just make a simple random split from the indices.\n",
    "idx = list(prep_data.index)\n",
    "np.random.shuffle(idx)\n",
    "ntest = np.int(np.ceil(TEST_FRACTION * len(idx)))\n",
    "print(\"For {} rows, we randomly split into {} training and {} test\".format(\n",
    "    len(idx), len(idx[ntest:]), len(idx[0:ntest])))"
   ]
  },
  {
   "cell_type": "code",
   "execution_count": 8,
   "metadata": {},
   "outputs": [
    {
     "name": "stdout",
     "output_type": "stream",
     "text": [
      "train_data: 6528 rows, test_data: 726 rows\n",
      "Index intersection between train_data and test_data: set()\n"
     ]
    }
   ],
   "source": [
    "# train data\n",
    "train_data = prep_data.iloc[idx[ntest:],:]\n",
    "\n",
    "# test data\n",
    "test_data = prep_data.iloc[idx[0:ntest],:]\n",
    "\n",
    "print(\"train_data: {} rows, test_data: {} rows\".format(train_data.shape[0], test_data.shape[0]))\n",
    "\n",
    "# Sanity check\n",
    "print(\"Index intersection between train_data and test_data: {}\".format(\n",
    "    set(train_data.index).intersection(set(test_data.index))))"
   ]
  },
  {
   "cell_type": "markdown",
   "metadata": {},
   "source": [
    "## Build the ImageDataGenerator"
   ]
  },
  {
   "cell_type": "code",
   "execution_count": 9,
   "metadata": {},
   "outputs": [
    {
     "name": "stdout",
     "output_type": "stream",
     "text": [
      "Found 5876 validated image filenames belonging to 25 classes.\n",
      "Found 652 validated image filenames belonging to 25 classes.\n"
     ]
    }
   ],
   "source": [
    "# Create the ImageDataGenerator\n",
    "image_gen = tf.keras.preprocessing.image.ImageDataGenerator(\n",
    "    rescale = 1.0/255.0,\n",
    "    validation_split=VALIDATION_FRACTION\n",
    ")\n",
    "\n",
    "# Create the training generator\n",
    "train_gen = image_gen.flow_from_dataframe(\n",
    "    train_data,\n",
    "    x_col='Id',\n",
    "    y_col='Genre',\n",
    "    directory=os.path.join(Multi_Label_dataset, 'Images'),\n",
    "    class_mode='categorical',\n",
    "    subset='training',\n",
    "    batch_size=BATCH_SIZE,\n",
    "    target_size=IMAGE_SIZE\n",
    ")\n",
    "\n",
    "# Create the validation generator\n",
    "val_gen = image_gen.flow_from_dataframe(\n",
    "    train_data,\n",
    "    x_col='Id',\n",
    "    y_col='Genre',\n",
    "    directory=os.path.join(Multi_Label_dataset, 'Images'),\n",
    "    class_mode='categorical',\n",
    "    subset='validation',\n",
    "    batch_size=BATCH_SIZE,\n",
    "    target_size=IMAGE_SIZE\n",
    ")"
   ]
  },
  {
   "cell_type": "markdown",
   "metadata": {},
   "source": [
    "Look how easy it is!! \n",
    "\n",
    "A couple of important things: \n",
    "* We pass the image file name to the `x_col` argument.\n",
    "* We don't need to create a one-hot vector. We just pass the list of label values as the target to the `y_col` argument.\n",
    "* We set `target_size`. The generator will automatically crop or pad the image if its size is not exactly the same as `IMAGE_SIZE`.\n",
    "* Notice how we can filter the image by rescaling its values by 1/255, which is normalizing the image."
   ]
  },
  {
   "cell_type": "markdown",
   "metadata": {},
   "source": [
    "## Training"
   ]
  },
  {
   "cell_type": "code",
   "execution_count": 10,
   "metadata": {},
   "outputs": [],
   "source": [
    "model.compile(\n",
    "    optimizer=\"adam\",\n",
    "    loss=\"binary_crossentropy\",\n",
    "    metrics=[\"accuracy\"]\n",
    ")"
   ]
  },
  {
   "cell_type": "code",
   "execution_count": 11,
   "metadata": {},
   "outputs": [
    {
     "name": "stdout",
     "output_type": "stream",
     "text": [
      "Epoch 1/10\n",
      "92/92 [==============================] - 28s 300ms/step - loss: 0.3954 - acc: 0.8310 - val_loss: 0.2718 - val_acc: 0.9071\n",
      "Epoch 2/10\n",
      "92/92 [==============================] - 24s 260ms/step - loss: 0.2859 - acc: 0.9009 - val_loss: 0.2484 - val_acc: 0.9071\n",
      "Epoch 3/10\n",
      "92/92 [==============================] - 24s 258ms/step - loss: 0.2707 - acc: 0.9042 - val_loss: 0.2464 - val_acc: 0.9074\n",
      "Epoch 4/10\n",
      "92/92 [==============================] - 24s 263ms/step - loss: 0.2649 - acc: 0.9060 - val_loss: 0.2474 - val_acc: 0.9074\n",
      "Epoch 5/10\n",
      "92/92 [==============================] - 24s 259ms/step - loss: 0.2598 - acc: 0.9064 - val_loss: 0.2470 - val_acc: 0.9067\n",
      "Epoch 6/10\n",
      "92/92 [==============================] - 24s 260ms/step - loss: 0.2560 - acc: 0.9068 - val_loss: 0.2452 - val_acc: 0.9071\n",
      "Epoch 7/10\n",
      "92/92 [==============================] - 24s 259ms/step - loss: 0.2529 - acc: 0.9081 - val_loss: 0.2408 - val_acc: 0.9066\n",
      "Epoch 8/10\n",
      "92/92 [==============================] - 23s 255ms/step - loss: 0.2511 - acc: 0.9076 - val_loss: 0.2400 - val_acc: 0.9067\n",
      "Epoch 9/10\n",
      "92/92 [==============================] - 23s 254ms/step - loss: 0.2483 - acc: 0.9079 - val_loss: 0.2388 - val_acc: 0.9102\n",
      "Epoch 10/10\n",
      "92/92 [==============================] - 24s 260ms/step - loss: 0.2474 - acc: 0.9084 - val_loss: 0.2372 - val_acc: 0.9117\n"
     ]
    }
   ],
   "source": [
    "hist = model.fit_generator(\n",
    "    train_gen,\n",
    "    epochs=EPOCHS,\n",
    "    validation_data=val_gen\n",
    ")"
   ]
  },
  {
   "cell_type": "code",
   "execution_count": 12,
   "metadata": {},
   "outputs": [
    {
     "data": {
      "text/plain": [
       "<matplotlib.legend.Legend at 0x7f3732fc3e10>"
      ]
     },
     "execution_count": 12,
     "metadata": {},
     "output_type": "execute_result"
    },
    {
     "data": {
      "image/png": "[encoded data removed]",
      "text/plain": [
       "<Figure size 864x360 with 2 Axes>"
      ]
     },
     "metadata": {
      "needs_background": "light"
     },
     "output_type": "display_data"
    }
   ],
   "source": [
    "fig = plt.figure(figsize=(12,5))\n",
    "\n",
    "# Plot the loss during training\n",
    "ax = fig.add_subplot(121)\n",
    "ax.plot(hist.history['loss'],'r')\n",
    "ax.plot(hist.history['val_loss'],'b')\n",
    "ax.set_title('Loss')\n",
    "ax.legend(['Training', 'Validation'])\n",
    "\n",
    "# Plot the accuracy during training\n",
    "ax = fig.add_subplot(122)\n",
    "ax.plot(hist.history['acc'],'r')\n",
    "ax.plot(hist.history['val_acc'],'b')\n",
    "ax.set_title('Accuracy')\n",
    "ax.legend(['Training', 'Validation'])"
   ]
  },
  {
   "cell_type": "markdown",
   "metadata": {},
   "source": [
    "## Test the network"
   ]
  },
  {
   "cell_type": "code",
   "execution_count": 13,
   "metadata": {},
   "outputs": [
    {
     "name": "stdout",
     "output_type": "stream",
     "text": [
      "Found 726 validated image filenames belonging to 25 classes.\n"
     ]
    }
   ],
   "source": [
    "# create test generator\n",
    "# but we must use the same class ordering with the train_gen and val_gen\n",
    "test_gen = image_gen.flow_from_dataframe(\n",
    "    test_data,\n",
    "    x_col='Id',\n",
    "    y_col='Genre',\n",
    "    directory=os.path.join(Multi_Label_dataset, 'Images'),\n",
    "    class_mode='categorical',\n",
    "    classes=list(train_gen.class_indices.keys()),\n",
    "    target_size=IMAGE_SIZE\n",
    ")"
   ]
  },
  {
   "cell_type": "code",
   "execution_count": 14,
   "metadata": {},
   "outputs": [
    {
     "name": "stdout",
     "output_type": "stream",
     "text": [
      "23/23 [==============================] - 3s 114ms/step - loss: 0.2325 - acc: 0.9117\n"
     ]
    }
   ],
   "source": [
    "# evaluate\n",
    "perf = model.evaluate_generator(\n",
    "    test_gen,\n",
    "    verbose=1\n",
    ")"
   ]
  },
  {
   "cell_type": "code",
   "execution_count": 15,
   "metadata": {},
   "outputs": [
    {
     "name": "stdout",
     "output_type": "stream",
     "text": [
      "Test loss: 0.23, test accuracy: 0.91\n"
     ]
    }
   ],
   "source": [
    "print(\"Test loss: {:.2f}, test accuracy: {:.2f}\".format(perf[0], perf[1]))"
   ]
  }
 ],
 "metadata": {
  "kernelspec": {
   "display_name": "Python 3",
   "language": "python",
   "name": "python3"
  },
  "language_info": {
   "codemirror_mode": {
    "name": "ipython",
    "version": 3
   },
   "file_extension": ".py",
   "mimetype": "text/x-python",
   "name": "python",
   "nbconvert_exporter": "python",
   "pygments_lexer": "ipython3",
   "version": "3.7.2"
  }
 },
 "nbformat": 4,
 "nbformat_minor": 4
}
