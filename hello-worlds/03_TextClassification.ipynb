{
 "cells": [
  {
   "cell_type": "markdown",
   "metadata": {},
   "source": [
    "# Classify positive/negative reviews\n",
    "----\n",
    "\n",
    "This notebook shows an example to classify text reviews from IMDB ([Internet Movie DataBase](https://www.imdb.com/)) are positive or negative review. This notebook is taken and modified from the [TensorFlow guide](https://www.tensorflow.org/tutorials/keras/basic_text_classification)."
   ]
  },
  {
   "cell_type": "code",
   "execution_count": 1,
   "metadata": {},
   "outputs": [
    {
     "name": "stdout",
     "output_type": "stream",
     "text": [
      "1.11.0\n"
     ]
    }
   ],
   "source": [
    "%matplotlib inline\n",
    "\n",
    "import matplotlib.pyplot as plt\n",
    "import tensorflow as tf\n",
    "from tensorflow import keras\n",
    "import numpy as np\n",
    "\n",
    "import sys\n",
    "sys.path.append('..')\n",
    "from datasets import imdb\n",
    "\n",
    "print(tf.__version__)"
   ]
  },
  {
   "cell_type": "markdown",
   "metadata": {},
   "source": [
    "The dataset comes from the TensorFlow package and it has been pre-processed that the reviews (sequence of words) have been converted into unique integers for each word. Labels are either 0 (negative review) or 1 (positive review)."
   ]
  },
  {
   "cell_type": "markdown",
   "metadata": {},
   "source": [
    "### Create new reserved keywords\n",
    "\n",
    "Each sample contains a text that can be any number of words, but the network needs a fixed number of elements for each sample. Therefore, we need to somehow pad them with a unique reserved index (not a word).\n",
    "\n",
    "We need to create new indices for some non-word items: *pad*, *start*, *unknown* and *unused*."
   ]
  },
  {
   "cell_type": "code",
   "execution_count": 2,
   "metadata": {},
   "outputs": [],
   "source": [
    "# load word dictionary for adding some new keywords\n",
    "word_dict = imdb.load_word_index()\n",
    "\n",
    "# shift the first four indices\n",
    "word_dict = {k:(v+3) for (k,v) in word_dict.items()}\n",
    "\n",
    "# make the first four indices to our new reserved non-word items\n",
    "word_dict['<PAD>'] = 0\n",
    "word_dict['<START>'] = 1\n",
    "word_dict['<UNKNOWN>'] = 2\n",
    "word_dict['<UNUSED>'] = 3"
   ]
  },
  {
   "cell_type": "markdown",
   "metadata": {},
   "source": [
    "### Make the number of elements from all samples equal\n",
    "\n",
    "Load the data and pad each sample with the new `<PAD>` keywords at the end."
   ]
  },
  {
   "cell_type": "code",
   "execution_count": 3,
   "metadata": {},
   "outputs": [
    {
     "name": "stdout",
     "output_type": "stream",
     "text": [
      "Training: data = (25000, 256), labels = (25000,)\n",
      "Test:     data = (25000, 256), labels = (25000,)\n"
     ]
    }
   ],
   "source": [
    "# To make the size manageable, we filter the top 10,000 most frequent words in the training data.\n",
    "# Hence, rare words are not being trained.\n",
    "num_words = 10000\n",
    "\n",
    "# maximum length of the review for each sample\n",
    "# use None for getting to max, but that may create different size between training & test data\n",
    "max_sample = 256\n",
    "\n",
    "# load the data\n",
    "(train_data, train_labels), (test_data, test_labels) = imdb.load(num_words=num_words)\n",
    "\n",
    "# pad training and test data with <PAD> at the end of each sample, \n",
    "# such that all samples have equal number of elements\n",
    "\n",
    "train_data = keras.preprocessing.sequence.pad_sequences(train_data,\n",
    "                                                       value = word_dict['<PAD>'],\n",
    "                                                       padding = 'post',\n",
    "                                                       maxlen = max_sample)\n",
    "\n",
    "test_data = keras.preprocessing.sequence.pad_sequences(test_data,\n",
    "                                                       value = word_dict['<PAD>'],\n",
    "                                                       padding = 'post',\n",
    "                                                       maxlen = max_sample)\n",
    "\n",
    "# let's print the shape of our data\n",
    "print(\"Training: data = {}, labels = {}\".format(train_data.shape, train_labels.shape))\n",
    "print(\"Test:     data = {}, labels = {}\".format(test_data.shape, test_labels.shape))"
   ]
  },
  {
   "cell_type": "markdown",
   "metadata": {},
   "source": [
    "### Visualize the data\n",
    "\n",
    "We can create a function to decode the word indices and print the original text of the review."
   ]
  },
  {
   "cell_type": "code",
   "execution_count": 4,
   "metadata": {},
   "outputs": [
    {
     "data": {
      "text/plain": [
       "\"i am a great fan of david lynch and have everything that he's made on dvd except for hotel room the 2 hour twin peaks movie so when i found out about this i immediately grabbed it and and what is this it's a bunch of drawn black and white cartoons that are loud and foul mouthed and unfunny maybe i don't know what's good but maybe this is just a bunch of crap that was on the public under the name of david lynch to make a few bucks too let me make it clear that i didn't care about the foul language part but had to keep the sound because my neighbors might have all in all this is a highly disappointing release and may well have just been left in the box set as a curiosity i highly recommend you don't spend your money on this 2 out of 10\""
      ]
     },
     "execution_count": 4,
     "metadata": {},
     "output_type": "execute_result"
    }
   ],
   "source": [
    "# get reverse word indices based on our modified word indices\n",
    "rev_word_index = imdb.get_rev_word_index(word_dict)\n",
    "\n",
    "def decode_review(indices):\n",
    "    return \" \".join([rev_word_index[i] for i in indices if i>3]).strip()\n",
    "\n",
    "# test one\n",
    "decode_review(train_data[100])"
   ]
  },
  {
   "cell_type": "markdown",
   "metadata": {},
   "source": [
    "## Building the network\n",
    "----\n",
    "\n",
    "The input data is an array of integers (word indices). The labels are 0 or 1. The first layer to create is an *embedding layer*, which creates a dense vector from the sparsed word indices. The dense vectors are learned during training.\n",
    "\n",
    "For example, if the sentence is \"deep learning is really deep to learn\", then the word indices are: `[0 1 2 3 1 4 5]`, where the dictionary is\n",
    "```\n",
    "[0, deep]\n",
    "[1, learning]\n",
    "[2, is]\n",
    "[3, really]\n",
    "[4, to]\n",
    "[5, learn]\n",
    "```\n",
    "The embedding layer transform it into a real value vector of `D` dimension for each index. The size of `D` is free to choose. Hence, embedding layer actually converts discrete space input into continuous domain.\n",
    "\n",
    "At the beginning, the values of these vectors are chosen randomly. During the training, the network will learn, and it is usually based on the words adjacent to it, distance or nearest neighbor. "
   ]
  },
  {
   "cell_type": "markdown",
   "metadata": {},
   "source": [
    "Layers are:\n",
    "\n",
    "* [Embedding](https://www.tensorflow.org/api_docs/python/tf/keras/layers/Embedding) with size of `feature_dim`.\n",
    "* [GlobalAveragePooling1D](https://www.tensorflow.org/api_docs/python/tf/keras/layers/GlobalAveragePooling1D) to take the average value of the embedded vector, \n",
    "* [Dense](https://www.tensorflow.org/api_docs/python/tf/keras/layers/Dense), a fully connected layer from `feature_dim` neurons with [relu](https://www.tensorflow.org/api_docs/python/tf/nn/relu) activation, and \n",
    "* The final [Dense](https://www.tensorflow.org/api_docs/python/tf/keras/layers/Dense) with [sigmoid](https://www.tensorflow.org/api_docs/python/tf/nn/relu) function for classification."
   ]
  },
  {
   "cell_type": "code",
   "execution_count": 5,
   "metadata": {},
   "outputs": [
    {
     "name": "stdout",
     "output_type": "stream",
     "text": [
      "_________________________________________________________________\n",
      "Layer (type)                 Output Shape              Param #   \n",
      "=================================================================\n",
      "embedding (Embedding)        (None, None, 16)          160000    \n",
      "_________________________________________________________________\n",
      "global_average_pooling1d (Gl (None, 16)                0         \n",
      "_________________________________________________________________\n",
      "dense (Dense)                (None, 16)                272       \n",
      "_________________________________________________________________\n",
      "dense_1 (Dense)              (None, 1)                 17        \n",
      "=================================================================\n",
      "Total params: 160,289\n",
      "Trainable params: 160,289\n",
      "Non-trainable params: 0\n",
      "_________________________________________________________________\n"
     ]
    }
   ],
   "source": [
    "feature_dim = 16\n",
    "\n",
    "model = keras.Sequential()\n",
    "model.add(keras.layers.Embedding(num_words, feature_dim))\n",
    "model.add(keras.layers.GlobalAveragePooling1D())\n",
    "model.add(keras.layers.Dense(feature_dim, activation=tf.nn.relu))\n",
    "model.add(keras.layers.Dense(1, activation=tf.nn.sigmoid))\n",
    "\n",
    "model.summary()"
   ]
  },
  {
   "cell_type": "markdown",
   "metadata": {},
   "source": [
    "Let's compile the model with [Adam optmizer](https://www.tensorflow.org/api_docs/python/tf/train/AdamOptimizer) and `binary_crossentropy` loss function. This loss function calculates the distance betweent two probability distribution functions, which is suitable for this classification problem."
   ]
  },
  {
   "cell_type": "code",
   "execution_count": 6,
   "metadata": {},
   "outputs": [],
   "source": [
    "model.compile(\n",
    "    optimizer=tf.train.AdamOptimizer(),\n",
    "    loss='binary_crossentropy',\n",
    "    metrics=['accuracy']\n",
    ")"
   ]
  },
  {
   "cell_type": "markdown",
   "metadata": {},
   "source": [
    "## Training the model\n",
    "----\n",
    "\n",
    "Usually the training data is split into into training & validation set, randomly. Just to make it easier, we split the first 10000 samples as our validation data, and the model is trained on the remaining ones."
   ]
  },
  {
   "cell_type": "code",
   "execution_count": 7,
   "metadata": {},
   "outputs": [
    {
     "name": "stdout",
     "output_type": "stream",
     "text": [
      "Train on 15000 samples, validate on 10000 samples\n",
      "Epoch 1/40\n",
      "15000/15000 [==============================] - 1s 89us/step - loss: 0.6921 - acc: 0.5801 - val_loss: 0.6903 - val_acc: 0.6839\n",
      "Epoch 2/40\n",
      "15000/15000 [==============================] - 1s 64us/step - loss: 0.6864 - acc: 0.7067 - val_loss: 0.6817 - val_acc: 0.6724\n",
      "Epoch 3/40\n",
      "15000/15000 [==============================] - 1s 67us/step - loss: 0.6728 - acc: 0.7275 - val_loss: 0.6639 - val_acc: 0.7256\n",
      "Epoch 4/40\n",
      "15000/15000 [==============================] - 1s 73us/step - loss: 0.6478 - acc: 0.7411 - val_loss: 0.6357 - val_acc: 0.7706\n",
      "Epoch 5/40\n",
      "15000/15000 [==============================] - 1s 69us/step - loss: 0.6110 - acc: 0.7910 - val_loss: 0.5967 - val_acc: 0.7833\n",
      "Epoch 6/40\n",
      "15000/15000 [==============================] - 1s 68us/step - loss: 0.5652 - acc: 0.8153 - val_loss: 0.5529 - val_acc: 0.7977\n",
      "Epoch 7/40\n",
      "15000/15000 [==============================] - 1s 62us/step - loss: 0.5151 - acc: 0.8374 - val_loss: 0.5073 - val_acc: 0.8243\n",
      "Epoch 8/40\n",
      "15000/15000 [==============================] - 1s 69us/step - loss: 0.4659 - acc: 0.8563 - val_loss: 0.4651 - val_acc: 0.8403\n",
      "Epoch 9/40\n",
      "15000/15000 [==============================] - 1s 65us/step - loss: 0.4218 - acc: 0.8665 - val_loss: 0.4289 - val_acc: 0.8499\n",
      "Epoch 10/40\n",
      "15000/15000 [==============================] - 1s 67us/step - loss: 0.3831 - acc: 0.8804 - val_loss: 0.3991 - val_acc: 0.8569\n",
      "Epoch 11/40\n",
      "15000/15000 [==============================] - 1s 64us/step - loss: 0.3511 - acc: 0.8881 - val_loss: 0.3771 - val_acc: 0.8614\n",
      "Epoch 12/40\n",
      "15000/15000 [==============================] - 1s 71us/step - loss: 0.3247 - acc: 0.8953 - val_loss: 0.3560 - val_acc: 0.8687\n",
      "Epoch 13/40\n",
      "15000/15000 [==============================] - 1s 76us/step - loss: 0.3008 - acc: 0.9009 - val_loss: 0.3412 - val_acc: 0.8714\n",
      "Epoch 14/40\n",
      "15000/15000 [==============================] - 1s 73us/step - loss: 0.2810 - acc: 0.9061 - val_loss: 0.3285 - val_acc: 0.8742\n",
      "Epoch 15/40\n",
      "15000/15000 [==============================] - 1s 74us/step - loss: 0.2638 - acc: 0.9110 - val_loss: 0.3186 - val_acc: 0.8770\n",
      "Epoch 16/40\n",
      "15000/15000 [==============================] - 1s 77us/step - loss: 0.2492 - acc: 0.9151 - val_loss: 0.3106 - val_acc: 0.8782\n",
      "Epoch 17/40\n",
      "15000/15000 [==============================] - 1s 70us/step - loss: 0.2350 - acc: 0.9208 - val_loss: 0.3039 - val_acc: 0.8807\n",
      "Epoch 18/40\n",
      "15000/15000 [==============================] - 1s 74us/step - loss: 0.2227 - acc: 0.9243 - val_loss: 0.2986 - val_acc: 0.8818\n",
      "Epoch 19/40\n",
      "15000/15000 [==============================] - 1s 73us/step - loss: 0.2113 - acc: 0.9287 - val_loss: 0.2947 - val_acc: 0.8823\n",
      "Epoch 20/40\n",
      "15000/15000 [==============================] - 1s 68us/step - loss: 0.2012 - acc: 0.9315 - val_loss: 0.2909 - val_acc: 0.8827\n",
      "Epoch 21/40\n",
      "15000/15000 [==============================] - 1s 72us/step - loss: 0.1916 - acc: 0.9361 - val_loss: 0.2883 - val_acc: 0.8831\n",
      "Epoch 22/40\n",
      "15000/15000 [==============================] - 1s 67us/step - loss: 0.1826 - acc: 0.9403 - val_loss: 0.2867 - val_acc: 0.8837\n",
      "Epoch 23/40\n",
      "15000/15000 [==============================] - 1s 71us/step - loss: 0.1746 - acc: 0.9435 - val_loss: 0.2857 - val_acc: 0.8839\n",
      "Epoch 24/40\n",
      "15000/15000 [==============================] - 1s 69us/step - loss: 0.1665 - acc: 0.9473 - val_loss: 0.2843 - val_acc: 0.8847\n",
      "Epoch 25/40\n",
      "15000/15000 [==============================] - 1s 74us/step - loss: 0.1595 - acc: 0.9505 - val_loss: 0.2841 - val_acc: 0.8846\n",
      "Epoch 26/40\n",
      "15000/15000 [==============================] - 1s 73us/step - loss: 0.1524 - acc: 0.9526 - val_loss: 0.2842 - val_acc: 0.8857\n",
      "Epoch 27/40\n",
      "15000/15000 [==============================] - 1s 66us/step - loss: 0.1465 - acc: 0.9548 - val_loss: 0.2854 - val_acc: 0.8851\n",
      "Epoch 28/40\n",
      "15000/15000 [==============================] - 1s 68us/step - loss: 0.1404 - acc: 0.9580 - val_loss: 0.2851 - val_acc: 0.8866\n",
      "Epoch 29/40\n",
      "15000/15000 [==============================] - 1s 63us/step - loss: 0.1346 - acc: 0.9595 - val_loss: 0.2863 - val_acc: 0.8859\n",
      "Epoch 30/40\n",
      "15000/15000 [==============================] - 1s 70us/step - loss: 0.1298 - acc: 0.9621 - val_loss: 0.2882 - val_acc: 0.8869\n",
      "Epoch 31/40\n",
      "15000/15000 [==============================] - 1s 69us/step - loss: 0.1239 - acc: 0.9639 - val_loss: 0.2897 - val_acc: 0.8867\n",
      "Epoch 32/40\n",
      "15000/15000 [==============================] - 1s 64us/step - loss: 0.1193 - acc: 0.9665 - val_loss: 0.2921 - val_acc: 0.8855\n",
      "Epoch 33/40\n",
      "15000/15000 [==============================] - 1s 64us/step - loss: 0.1141 - acc: 0.9683 - val_loss: 0.2941 - val_acc: 0.8859\n",
      "Epoch 34/40\n",
      "15000/15000 [==============================] - 1s 68us/step - loss: 0.1099 - acc: 0.9697 - val_loss: 0.2977 - val_acc: 0.8847\n",
      "Epoch 35/40\n",
      "15000/15000 [==============================] - 1s 66us/step - loss: 0.1061 - acc: 0.9710 - val_loss: 0.2993 - val_acc: 0.8853\n",
      "Epoch 36/40\n",
      "15000/15000 [==============================] - 1s 67us/step - loss: 0.1014 - acc: 0.9735 - val_loss: 0.3025 - val_acc: 0.8837\n",
      "Epoch 37/40\n",
      "15000/15000 [==============================] - 1s 76us/step - loss: 0.0977 - acc: 0.9747 - val_loss: 0.3056 - val_acc: 0.8835\n",
      "Epoch 38/40\n",
      "15000/15000 [==============================] - 1s 82us/step - loss: 0.0944 - acc: 0.9755 - val_loss: 0.3099 - val_acc: 0.8824\n",
      "Epoch 39/40\n",
      "15000/15000 [==============================] - 1s 70us/step - loss: 0.0904 - acc: 0.9777 - val_loss: 0.3117 - val_acc: 0.8825\n",
      "Epoch 40/40\n",
      "15000/15000 [==============================] - 1s 67us/step - loss: 0.0869 - acc: 0.9797 - val_loss: 0.3155 - val_acc: 0.8832\n"
     ]
    }
   ],
   "source": [
    "history = model.fit(\n",
    "    train_data[10000:],\n",
    "    train_labels[10000:],\n",
    "    epochs=40,\n",
    "    batch_size=512,\n",
    "    validation_data=(train_data[:10000], train_labels[:10000]),\n",
    "    verbose=1\n",
    ")"
   ]
  },
  {
   "cell_type": "markdown",
   "metadata": {},
   "source": [
    "## Evaluate the model\n",
    "----\n",
    "Using test data, which are not seen during the training, we can evaluate our model"
   ]
  },
  {
   "cell_type": "code",
   "execution_count": 8,
   "metadata": {},
   "outputs": [
    {
     "name": "stdout",
     "output_type": "stream",
     "text": [
      "25000/25000 [==============================] - 1s 37us/step\n",
      "[0.3368314883327484, 0.87208]\n"
     ]
    }
   ],
   "source": [
    "results = model.evaluate(x = test_data, y = test_labels)\n",
    "\n",
    "print(results)"
   ]
  },
  {
   "cell_type": "markdown",
   "metadata": {},
   "source": [
    "Plot the training accuracy and error from the `history`"
   ]
  },
  {
   "cell_type": "code",
   "execution_count": 9,
   "metadata": {},
   "outputs": [
    {
     "data": {
      "text/plain": [
       "Text(0.5, 1.0, 'Loss (error)')"
      ]
     },
     "execution_count": 9,
     "metadata": {},
     "output_type": "execute_result"
    },
    {
     "data": {
      "image/png": "[encoded data removed]",
      "text/plain": [
       "<Figure size 864x288 with 2 Axes>"
      ]
     },
     "metadata": {
      "needs_background": "light"
     },
     "output_type": "display_data"
    }
   ],
   "source": [
    "# get the metrics from history\n",
    "h = history.history\n",
    "\n",
    "plt.figure(figsize=(12,4))\n",
    "\n",
    "ax1 = plt.subplot(121)\n",
    "ax1.plot(h['acc'],'r', label='Training')\n",
    "ax1.plot(h['val_acc'],'b', label='Test')\n",
    "ax1.legend()\n",
    "ax1.set_title('Accuracy')\n",
    "\n",
    "ax2 = plt.subplot(122)\n",
    "ax2.plot(h['loss'],'r', label='Training')\n",
    "ax2.plot(h['val_loss'],'b', label='Test')\n",
    "ax2.legend()\n",
    "ax2.set_title('Loss (error)')"
   ]
  },
  {
   "cell_type": "markdown",
   "metadata": {},
   "source": [
    "There is clearly of *overtraining* after 20 epochs."
   ]
  },
  {
   "cell_type": "code",
   "execution_count": null,
   "metadata": {},
   "outputs": [],
   "source": []
  }
 ],
 "metadata": {
  "kernelspec": {
   "display_name": "Python 3",
   "language": "python",
   "name": "python3"
  },
  "language_info": {
   "codemirror_mode": {
    "name": "ipython",
    "version": 3
   },
   "file_extension": ".py",
   "mimetype": "text/x-python",
   "name": "python",
   "nbconvert_exporter": "python",
   "pygments_lexer": "ipython3",
   "version": "3.6.5"
  }
 },
 "nbformat": 4,
 "nbformat_minor": 2
}
